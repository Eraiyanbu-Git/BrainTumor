{
 "cells": [
  {
   "cell_type": "markdown",
   "id": "4b0d9d4e",
   "metadata": {},
   "source": [
    "# Brain Tumor Classification: Model Comparison\n",
    "\n",
    "This notebook compares the performance of two models trained for brain tumor classification:\n",
    "- A custom Convolutional Neural Network (CNN)\n",
    "- A transfer learning model using MobileNetV2\n",
    "\n",
    "Metrics used for comparison:\n",
    "- Accuracy\n",
    "- Confusion Matrix\n",
    "- Classification Report (Precision, Recall, F1-score)\n",
    "- Training & Validation Curves"
   ]
  },
  {
   "cell_type": "code",
   "execution_count": null,
   "id": "e1b4f0b6",
   "metadata": {},
   "outputs": [],
   "source": [
    "import numpy as np\n",
    "import matplotlib.pyplot as plt\n",
    "import seaborn as sns\n",
    "from keras.models import load_model\n",
    "from sklearn.metrics import classification_report, confusion_matrix\n",
    "from tensorflow.keras.preprocessing.image import ImageDataGenerator"
   ]
  },
  {
   "cell_type": "code",
   "execution_count": null,
   "id": "fae17139",
   "metadata": {},
   "outputs": [],
   "source": [
    "# Load trained models\n",
    "custom_model = load_model('custom_cnn_model.h5')\n",
    "mobilenet_model = load_model('mobilenetv2_model.h5')"
   ]
  },
  {
   "cell_type": "code",
   "execution_count": null,
   "id": "2121c3aa",
   "metadata": {},
   "outputs": [],
   "source": [
    "# Prepare test data\n",
    "test_dir = 'dataset/test'  # adjust as needed\n",
    "img_size = (224, 224)\n",
    "batch_size = 32\n",
    "test_datagen = ImageDataGenerator(rescale=1./255)\n",
    "test_data = test_datagen.flow_from_directory(\n",
    "    test_dir,\n",
    "    target_size=img_size,\n",
    "    batch_size=batch_size,\n",
    "    class_mode='categorical',\n",
    "    shuffle=False\n",
    ")\n",
    "class_names = list(test_data.class_indices.keys())"
   ]
  },
  {
   "cell_type": "code",
   "execution_count": null,
   "id": "178cfa05",
   "metadata": {},
   "outputs": [],
   "source": [
    "def evaluate_model(model, test_data, model_name):\n",
    "    y_pred = model.predict(test_data)\n",
    "    y_pred_labels = np.argmax(y_pred, axis=1)\n",
    "    y_true = test_data.classes\n",
    "\n",
    "    print(f\"\\nClassification Report for {model_name}:\")\n",
    "    print(classification_report(y_true, y_pred_labels, target_names=class_names))\n",
    "\n",
    "    cm = confusion_matrix(y_true, y_pred_labels)\n",
    "    plt.figure(figsize=(6, 5))\n",
    "    sns.heatmap(cm, annot=True, fmt='d', cmap='Blues', xticklabels=class_names, yticklabels=class_names)\n",
    "    plt.title(f'Confusion Matrix - {model_name}')\n",
    "    plt.xlabel('Predicted')\n",
    "    plt.ylabel('True')\n",
    "    plt.show()"
   ]
  },
  {
   "cell_type": "code",
   "execution_count": null,
   "id": "6430c32e",
   "metadata": {},
   "outputs": [],
   "source": [
    "evaluate_model(custom_model, test_data, 'Custom CNN')"
   ]
  },
  {
   "cell_type": "code",
   "execution_count": null,
   "id": "a79e8f54",
   "metadata": {},
   "outputs": [],
   "source": [
    "evaluate_model(mobilenet_model, test_data, 'MobileNetV2')"
   ]
  }
 ],
 "metadata": {},
 "nbformat": 4,
 "nbformat_minor": 5
}
